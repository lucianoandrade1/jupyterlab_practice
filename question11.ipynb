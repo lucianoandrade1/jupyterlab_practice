{
 "cells": [
  {
   "cell_type": "markdown",
   "id": "bfe98177-b70f-4ed3-8c52-6ca0ec1e18c3",
   "metadata": {},
   "source": [
    "# Luciano Carli Moreira de Andrade\n",
    "Notebook for assignment 7"
   ]
  },
  {
   "cell_type": "code",
   "execution_count": 2,
   "id": "604188dd-97ed-4848-80d1-6c873ef67bab",
   "metadata": {},
   "outputs": [
    {
     "data": {
      "text/plain": [
       "5.0"
      ]
     },
     "execution_count": 2,
     "metadata": {},
     "output_type": "execute_result"
    }
   ],
   "source": [
    "def compute_mean(lst):\n",
    "    return sum(lst) / len(lst)\n",
    "\n",
    "compute_mean([2, 4, 6, 8])"
   ]
  },
  {
   "cell_type": "markdown",
   "id": "02b16657-9781-4ee6-b8b3-50eedaafcd2d",
   "metadata": {},
   "source": [
    "The compute_mean function calculates the average of a list.\n",
    "\n",
    "$$\\overline{x}=\\frac{x_{1}+x_{2}+...+x_{n}}{n}=\\frac{1}{n}(\\sum_{i=1}^{n}x_{i})$$"
   ]
  },
  {
   "cell_type": "code",
   "execution_count": null,
   "id": "74162202-31e4-4da4-8b0b-96ccc41d547b",
   "metadata": {},
   "outputs": [],
   "source": []
  }
 ],
 "metadata": {
  "kernelspec": {
   "display_name": "Python 3 (ipykernel)",
   "language": "python",
   "name": "python3"
  },
  "language_info": {
   "codemirror_mode": {
    "name": "ipython",
    "version": 3
   },
   "file_extension": ".py",
   "mimetype": "text/x-python",
   "name": "python",
   "nbconvert_exporter": "python",
   "pygments_lexer": "ipython3",
   "version": "3.10.9"
  }
 },
 "nbformat": 4,
 "nbformat_minor": 5
}
