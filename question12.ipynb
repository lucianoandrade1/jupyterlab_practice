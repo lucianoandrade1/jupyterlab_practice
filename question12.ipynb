{
 "cells": [
  {
   "cell_type": "markdown",
   "id": "f2265945-368c-4a9e-8d70-cd60c18f73eb",
   "metadata": {},
   "source": [
    "We are currently working in the following directory:"
   ]
  },
  {
   "cell_type": "code",
   "execution_count": 1,
   "id": "a6836d19-ed27-408f-b9d0-7aca7984e707",
   "metadata": {},
   "outputs": [
    {
     "name": "stdout",
     "output_type": "stream",
     "text": [
      "/c/Users/lucia/documents/ubc/Assignment7/jupyterlab_practice\n"
     ]
    }
   ],
   "source": [
    "!pwd"
   ]
  },
  {
   "cell_type": "markdown",
   "id": "c7222663-2853-49e8-8afd-edf2f7dd42ab",
   "metadata": {},
   "source": [
    "To time how long it takes to run a Python cell, we could use the timeit command inside a cell as is shown below: Followed by the proper use of the timeit command to time the following loop:"
   ]
  },
  {
   "cell_type": "code",
   "execution_count": 3,
   "id": "6cfe72ff-be10-42d4-b7ee-818d130306e4",
   "metadata": {},
   "outputs": [
    {
     "name": "stdout",
     "output_type": "stream",
     "text": [
      "586 ms ± 3.14 ms per loop (mean ± std. dev. of 7 runs, 1 loop each)\n"
     ]
    }
   ],
   "source": [
    "%%timeit\n",
    "for i in range(1_000_000):\n",
    "    i**2"
   ]
  },
  {
   "cell_type": "code",
   "execution_count": 4,
   "id": "8a20a310-f945-47d0-85e2-74e0d670b1fc",
   "metadata": {},
   "outputs": [
    {
     "name": "stderr",
     "output_type": "stream",
     "text": [
      "[NbConvertApp] WARNING | Config option `kernel_spec_manager_class` not recognized by `NbConvertApp`.\n",
      "[NbConvertApp] Converting notebook question12.ipynb to html\n",
      "[NbConvertApp] Writing 576268 bytes to question12.html\n"
     ]
    }
   ],
   "source": [
    "!jupyter nbconvert question12.ipynb --no-input --to html"
   ]
  },
  {
   "cell_type": "code",
   "execution_count": null,
   "id": "77dbb452-cb6f-4575-a379-fc4fe39567d6",
   "metadata": {},
   "outputs": [],
   "source": []
  }
 ],
 "metadata": {
  "kernelspec": {
   "display_name": "Python 3 (ipykernel)",
   "language": "python",
   "name": "python3"
  },
  "language_info": {
   "codemirror_mode": {
    "name": "ipython",
    "version": 3
   },
   "file_extension": ".py",
   "mimetype": "text/x-python",
   "name": "python",
   "nbconvert_exporter": "python",
   "pygments_lexer": "ipython3",
   "version": "3.10.9"
  }
 },
 "nbformat": 4,
 "nbformat_minor": 5
}
